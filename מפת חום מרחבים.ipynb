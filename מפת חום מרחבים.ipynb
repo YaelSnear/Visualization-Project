{
  "nbformat": 4,
  "nbformat_minor": 0,
  "metadata": {
    "colab": {
      "provenance": []
    },
    "kernelspec": {
      "name": "python3",
      "display_name": "Python 3"
    },
    "language_info": {
      "name": "python"
    }
  },
  "cells": [
    {
      "cell_type": "code",
      "execution_count": 1,
      "metadata": {
        "colab": {
          "base_uri": "https://localhost:8080/"
        },
        "id": "bzsw0CtjNU3B",
        "outputId": "bc8f2759-db01-4041-c4fa-0d603cdfe0e9"
      },
      "outputs": [
        {
          "output_type": "stream",
          "name": "stdout",
          "text": [
            "GeoDatabase path exists: True\n"
          ]
        }
      ],
      "source": [
        "import zipfile\n",
        "import os\n",
        "\n",
        "# נתיב לקובץ ה-ZIP שהועלה\n",
        "zip_path = \"/content/policestationboundaries.gdb.zip\"\n",
        "\n",
        "# חלץ את התוכן לתוך קולאב\n",
        "with zipfile.ZipFile(zip_path, 'r') as zip_ref:\n",
        "    zip_ref.extractall(\"/content/PoliceStationBoundaries\")\n",
        "\n",
        "# ודא שהתיקייה קיימת\n",
        "gdb_path = \"/content/PoliceStationBoundaries/PoliceStationBoundaries.gdb\"\n",
        "print(\"GeoDatabase path exists:\", os.path.exists(gdb_path))\n"
      ]
    },
    {
      "cell_type": "code",
      "source": [
        "!pip install fiona"
      ],
      "metadata": {
        "colab": {
          "base_uri": "https://localhost:8080/"
        },
        "id": "GQbP9lOSD6r_",
        "outputId": "2ba57c28-c418-488a-d652-1c8d7b88cb9a"
      },
      "execution_count": 2,
      "outputs": [
        {
          "output_type": "stream",
          "name": "stdout",
          "text": [
            "Requirement already satisfied: fiona in /usr/local/lib/python3.11/dist-packages (1.10.1)\n",
            "Requirement already satisfied: attrs>=19.2.0 in /usr/local/lib/python3.11/dist-packages (from fiona) (24.3.0)\n",
            "Requirement already satisfied: certifi in /usr/local/lib/python3.11/dist-packages (from fiona) (2024.12.14)\n",
            "Requirement already satisfied: click~=8.0 in /usr/local/lib/python3.11/dist-packages (from fiona) (8.1.8)\n",
            "Requirement already satisfied: click-plugins>=1.0 in /usr/local/lib/python3.11/dist-packages (from fiona) (1.1.1)\n",
            "Requirement already satisfied: cligj>=0.5 in /usr/local/lib/python3.11/dist-packages (from fiona) (0.7.2)\n"
          ]
        }
      ]
    },
    {
      "cell_type": "code",
      "source": [
        "\n",
        "def categorize_statistic_group(stat_group):\n",
        "    categories = {\n",
        "        \"עבירות פליליות כלליות\": ['עבירות כלפי הרכוש', 'עבירות נגד גוף', 'עבירות מין'],\n",
        "        \"עבירות מוסר\": ['עבירות מוסר', 'עבירות סדר ציבורי'],\n",
        "        \"עבירות ביטחון\": ['עבירות בטחון'],\n",
        "        \"עבירות כלכליות\": ['עבירות כלכליות', 'עבירות מנהליות', 'עבירות רשוי'],\n",
        "        \"עבירות תנועה\": ['עבירות תנועה'],\n",
        "        \"עבירות מרמה\": ['עבירות מרמה'],\n",
        "    }\n",
        "    for category, types in categories.items():\n",
        "        if stat_group in types:\n",
        "            return category\n",
        "    return None # Default for uncategorized types"
      ],
      "metadata": {
        "id": "1OMzqHIOy6y4"
      },
      "execution_count": 3,
      "outputs": []
    },
    {
      "cell_type": "code",
      "source": [
        "import fiona\n",
        "\n",
        "# רשימת שכבות\n",
        "gdb_path = \"/content/PoliceStationBoundaries/PoliceStationBoundaries.gdb\"\n",
        "layers = fiona.listlayers(gdb_path)\n",
        "print(\"Available layers:\", layers)\n",
        "\n",
        "# טען שכבה לדוגמה\n",
        "import geopandas as gpd\n",
        "layer_name = layers[0]  # שכבה ראשונה\n",
        "gdf = gpd.read_file(gdb_path, layer=layer_name)\n",
        "\n",
        "print(gdf.head())\n"
      ],
      "metadata": {
        "id": "zPIQkJdRRhco",
        "outputId": "25f7e446-e48e-4e03-fe16-eb54c39b075f",
        "colab": {
          "base_uri": "https://localhost:8080/"
        }
      },
      "execution_count": 4,
      "outputs": [
        {
          "output_type": "stream",
          "name": "stdout",
          "text": [
            "Available layers: ['PoliceMahozBoundaries', 'PoliceMerhavBoundaries', 'PoliceStationBoundaries']\n",
            "  MahozName   SHAPE_Length    SHAPE_Area  \\\n",
            "0      דרום  750722.926821  1.453584e+10   \n",
            "1       חוף  374342.153371  1.254465e+09   \n",
            "2   ירושלים  241526.065492  6.819003e+08   \n",
            "3      מרכז  286816.457612  1.259039e+09   \n",
            "4      צפון  461646.983931  4.257680e+09   \n",
            "\n",
            "                                            geometry  \n",
            "0  MULTIPOLYGON (((170684.18 641711.35, 170760.07...  \n",
            "1  MULTIPOLYGON (((228445.15 778605.01, 228464.34...  \n",
            "2  MULTIPOLYGON (((216169.05 623628.83, 216118.25...  \n",
            "3  MULTIPOLYGON (((188790.45 702021.73, 188890.1 ...  \n",
            "4  MULTIPOLYGON (((273645.94 803870.81, 275379.97...  \n"
          ]
        }
      ]
    },
    {
      "cell_type": "code",
      "source": [
        "import geopandas as gpd\n",
        "import matplotlib.pyplot as plt\n",
        "\n",
        "# נתיב לקובץ ה-GDB\n",
        "gdb_path = \"/content/PoliceStationBoundaries/PoliceStationBoundaries.gdb\"\n",
        "\n",
        "# שם השכבה שאתה רוצה לטעון\n",
        "layer_name = \"PoliceMerhavBoundaries\"  # שם השכבה של המרחבים\n",
        "\n",
        "# טוען את השכבה\n",
        "gdf = gpd.read_file(gdb_path, layer=layer_name)\n",
        "\n",
        "# הצגת 5 השורות הראשונות כדי לראות את הנתונים\n",
        "print(gdf.head())\n",
        "\n",
        "# הצגת המפה עם הגבולות הגיאוגרפיים של המרחבים\n",
        "gdf.plot(edgecolor='black', facecolor='none')\n",
        "plt.title(f\"Boundary Locations of {layer_name}\")\n",
        "plt.xlabel(\"Longitude\")\n",
        "plt.ylabel(\"Latitude\")\n",
        "plt.show()\n"
      ],
      "metadata": {
        "colab": {
          "base_uri": "https://localhost:8080/",
          "height": 698
        },
        "id": "68zQoztmU32O",
        "outputId": "86784875-58ef-4942-a54c-66dee6e7160e"
      },
      "execution_count": 5,
      "outputs": [
        {
          "output_type": "stream",
          "name": "stdout",
          "text": [
            "    MerhavName MahozName   SHAPE_Length    SHAPE_Area  \\\n",
            "0  מרחב איילון   תל אביב   38864.683903  5.276257e+07   \n",
            "1    מרחב אילת      דרום  280405.324417  2.702414e+09   \n",
            "2     מרחב אשר       חוף  208311.404629  5.074636e+08   \n",
            "3    מרחב גליל      צפון  145792.205732  4.325043e+08   \n",
            "4     מרחב דוד   ירושלים    4975.103767  1.097502e+06   \n",
            "\n",
            "                                            geometry  \n",
            "0  MULTIPOLYGON (((181127.17 665160.55, 181142.64...  \n",
            "1  MULTIPOLYGON (((170494.88 477632.37, 170502.85...  \n",
            "2  MULTIPOLYGON (((228445.15 778605.01, 228464.34...  \n",
            "3  MULTIPOLYGON (((234937.86 765555.03, 234948.66...  \n",
            "4  MULTIPOLYGON (((222538.55 632343.1, 222545.84 ...  \n"
          ]
        },
        {
          "output_type": "display_data",
          "data": {
            "text/plain": [
              "<Figure size 640x480 with 1 Axes>"
            ],
            "image/png": "[encoded data removed]"
          },
          "metadata": {}
        }
      ]
    },
    {
      "cell_type": "markdown",
      "source": [
        "# **ייבוא הדאטה**"
      ],
      "metadata": {
        "id": "UR6kwMR1BZCr"
      }
    },
    {
      "cell_type": "code",
      "source": [
        "import requests\n",
        "import pandas as pd\n"
      ],
      "metadata": {
        "id": "CG1czZHEBX-I"
      },
      "execution_count": 6,
      "outputs": []
    },
    {
      "cell_type": "code",
      "source": [
        "url_2020 = 'https://data.gov.il/api/3/action/datastore_search?resource_id=520597e3-6003-4247-9634-0ae85434b971'\n",
        "response_2020 = requests.get(url_2020)\n",
        "data_2020 = response_2020.json()\n",
        "records_2020 = data_2020['result']['records']\n",
        "df_2020 = pd.DataFrame(records_2020)"
      ],
      "metadata": {
        "id": "2q9vA9uGBkon"
      },
      "execution_count": 7,
      "outputs": []
    },
    {
      "cell_type": "code",
      "source": [
        "url_2021 = 'https://data.gov.il/api/3/action/datastore_search?resource_id=3f71fd16-25b8-4cfe-8661-e6199db3eb12'\n",
        "response_2021 = requests.get(url_2021)\n",
        "data_2021 = response_2021.json()\n",
        "records_2021 = data_2021['result']['records']\n",
        "df_2021 = pd.DataFrame(records_2021)"
      ],
      "metadata": {
        "id": "Da8R2z9LCCwi"
      },
      "execution_count": 8,
      "outputs": []
    },
    {
      "cell_type": "code",
      "source": [
        "url_2022 = 'https://data.gov.il/api/3/action/datastore_search?resource_id=a59f3e9e-a7fe-4375-97d0-76cea68382c1'\n",
        "response_2022 = requests.get(url_2022)\n",
        "data_2022 = response_2022.json()\n",
        "records_2022 = data_2022['result']['records']\n",
        "df_2022 = pd.DataFrame(records_2022)"
      ],
      "metadata": {
        "id": "fVvT2LEGBkyb"
      },
      "execution_count": 9,
      "outputs": []
    },
    {
      "cell_type": "code",
      "source": [
        "url_2023 = 'https://data.gov.il/api/3/action/datastore_search?resource_id=32aacfc9-3524-4fba-a282-3af052380244'\n",
        "response_2023 = requests.get(url_2023)\n",
        "data_2023 = response_2023.json()\n",
        "records_2023 = data_2023['result']['records']\n",
        "df_2023 = pd.DataFrame(records_2023)"
      ],
      "metadata": {
        "id": "Tw2zzeUZBk77"
      },
      "execution_count": 10,
      "outputs": []
    },
    {
      "cell_type": "code",
      "source": [
        "url_2024 = 'https://data.gov.il/api/3/action/datastore_search?resource_id=5fc13c50-b6f3-4712-b831-a75e0f91a17e'\n",
        "response_2024 = requests.get(url_2024)\n",
        "data_2024 = response_2024.json()\n",
        "records_2024 = data_2024['result']['records']\n",
        "df_2024 = pd.DataFrame(records_2024)"
      ],
      "metadata": {
        "id": "Wenn0Uc7CeNg"
      },
      "execution_count": 11,
      "outputs": []
    },
    {
      "cell_type": "code",
      "source": [
        "df_all = pd.concat([df_2020, df_2021, df_2022, df_2023, df_2024], ignore_index=True)\n",
        "df_all[\"StatisticGroup\"] = df_all[\"StatisticGroup\"].apply(categorize_statistic_group)\n",
        "df_all = df_all[df_all[\"StatisticGroup\"].notna()]\n",
        "###########"
      ],
      "metadata": {
        "id": "3RMdSAVkCglH",
        "collapsed": true
      },
      "execution_count": 12,
      "outputs": []
    },
    {
      "cell_type": "code",
      "source": [
        "# הדפסת שמות הקטגוריות הייחודיות\n",
        "unique_categories = df_all[\"StatisticGroup\"].unique()\n",
        "print(\"קטגוריות ייחודיות:\")\n",
        "print(unique_categories)\n"
      ],
      "metadata": {
        "colab": {
          "base_uri": "https://localhost:8080/"
        },
        "id": "vCwnpbpm39j1",
        "outputId": "cdd55c84-40cd-43b7-fa7b-8c8915a65e36"
      },
      "execution_count": 13,
      "outputs": [
        {
          "output_type": "stream",
          "name": "stdout",
          "text": [
            "קטגוריות ייחודיות:\n",
            "['עבירות פליליות כלליות' 'עבירות מוסר' 'עבירות ביטחון' 'עבירות מרמה'\n",
            " 'עבירות תנועה' 'עבירות כלכליות']\n"
          ]
        }
      ]
    },
    {
      "cell_type": "markdown",
      "source": [
        "## **תיאום שמות מרחבים**"
      ],
      "metadata": {
        "id": "scS-NuyrPADG"
      }
    },
    {
      "cell_type": "code",
      "source": [
        "import pandas as pd\n",
        "import geopandas as gpd\n",
        "\n",
        "merhav_mapping = {\n",
        "\n",
        "    \"מרחב איילון החדש תא\": \"מרחב איילון\",\n",
        "    \"מרחב איילון הישן תא\": \"מרחב איילון\",\n",
        "    \"מרחב לכיש\": \"מרחב לכיש\",\n",
        "    \"מרחב נגב\": \"מרחב נגב\",\n",
        "    \"מרחב שרון\": \"מרחב שרון\",\n",
        "    \"מרחב אילת דרום\": \"מרחב אילת\",\n",
        "    \"מרחב אשר חוף\": \"מרחב אשר\",\n",
        "    \"מרחב יהודה שי\": \"מרחב יהודה\",\n",
        "    \"מרחב גליל צפון\": \"מרחב גליל\",\n",
        "    \"מרחב ירקון תא\":\"מרחב ירקון\",\n",
        "    \"מרחב דוד ירושלים\": \"מרחב דוד\",\n",
        "    \"מרחב שומרון שי\": \"מרחב שומרון\",\n",
        "    \"מרחב כרמל חוף\": \"מרחב כרמל\",\n",
        "    'מרחב שפלה': 'מרחב שפלה\\r\\n',  # תיקון תו מיוחד\n",
        "    \"מרחב דן תא\": \"מרחב דן\",\n",
        "    \"מרחב קדם ירושלים\": \"מרחב קדם\",\n",
        "    \"מרחב ציון ירושלים\": \"מרחב ציון\",\n",
        "    \"מרחב כנרת צפון\": \"מרחב כנרת\",\n",
        "    \"מרחב עמקים צפון\": \"מרחב עמקים\",\n",
        "    'מרחב נתבג מרכז': \"מרחב נתב\\\"ג\",\n",
        "    \"מרחב מנשה חוף\": \"מרחב מנשה\",\n",
        "}\n",
        "\n",
        "\n",
        "# שלב 1: הסרת ערכים ריקים ו-None לפני המיפוי\n",
        "df_all = df_all.dropna(subset=['PoliceMerhav'])  # הסרת ערכים ריקים\n",
        "df_all = df_all[df_all['PoliceMerhav'] != '']  # הסרת ערכים ריקים (מחרוזות ריקות)\n",
        "\n",
        "# שלב 2: מיפוי השמות הישנים לשמות החדשים\n",
        "df_all['PoliceMerhav'] = df_all['PoliceMerhav'].replace(merhav_mapping)\n",
        "\n",
        "# שלב 3: הסרת כל ערך שאינו תואם למפות (אם יש שמות שלא נמצאים במיפוי)\n",
        "df_all = df_all[df_all['PoliceMerhav'].isin(merhav_mapping.values())]\n",
        "\n",
        "# שלב 4: ווידוא שהשמות תואמים\n",
        "unique_values_df = df_all['PoliceMerhav'].unique()\n",
        "unique_values_map = gdf['MerhavName'].unique()\n",
        "\n",
        "# חיתוך של הערכים\n",
        "set_unique_df = set(unique_values_df)\n",
        "set_unique_map = set(unique_values_map)\n",
        "\n",
        "# ערכים משותפים\n",
        "common_values = set_unique_df.intersection(set_unique_map)\n",
        "print(\"\\nערכים זהים בין df ל-map:\")\n",
        "print(common_values)\n",
        "\n",
        "# ערכים שיש ב-df ואין ב-map\n",
        "values_in_df_not_in_map = set_unique_df.difference(set_unique_map)\n",
        "print(\"\\nערכים שנמצאים ב-df אך לא ב-map:\")\n",
        "print(values_in_df_not_in_map)\n",
        "\n",
        "# ערכים שיש ב-map ואין ב-df\n",
        "values_in_map_not_in_df = set_unique_map.difference(set_unique_df)\n",
        "print(\"\\nערכים שנמצאים ב-map אך לא ב-df:\")\n",
        "print(values_in_map_not_in_df)\n",
        "\n",
        "# שלב 5: בדיקה אם הכל תואם\n",
        "if not values_in_df_not_in_map and not values_in_map_not_in_df:\n",
        "    print(\"\\nהכל תקין! כל הערכים תואמים בין df ל-map.\")\n",
        "else:\n",
        "    print(\"\\nיש אי התאמות בין הערכים של df ל-map.\")\n",
        "\n",
        "# שלב 6: ייצוא הקובץ CSV\n",
        "df_all.to_csv('/content/clean_df.csv', index=False)"
      ],
      "metadata": {
        "colab": {
          "base_uri": "https://localhost:8080/"
        },
        "id": "v2FBZFboO7wK",
        "outputId": "b3d36e9f-1fd5-4a7a-e1a0-6602eeb1c711"
      },
      "execution_count": 14,
      "outputs": [
        {
          "output_type": "stream",
          "name": "stdout",
          "text": [
            "\n",
            "ערכים זהים בין df ל-map:\n",
            "{'מרחב נגב', 'מרחב דוד', 'מרחב ציון', 'מרחב שומרון', 'מרחב אשר', 'מרחב נתב\"ג', 'מרחב שרון', 'מרחב קדם', 'מרחב שפלה\\r\\n', 'מרחב עמקים', 'מרחב מנשה', 'מרחב לכיש', 'מרחב כנרת', 'מרחב דן', 'מרחב גליל', 'מרחב אילת', 'מרחב ירקון', 'מרחב יהודה', 'מרחב כרמל', 'מרחב איילון'}\n",
            "\n",
            "ערכים שנמצאים ב-df אך לא ב-map:\n",
            "set()\n",
            "\n",
            "ערכים שנמצאים ב-map אך לא ב-df:\n",
            "set()\n",
            "\n",
            "הכל תקין! כל הערכים תואמים בין df ל-map.\n"
          ]
        }
      ]
    },
    {
      "cell_type": "code",
      "source": [
        "!pip install dash"
      ],
      "metadata": {
        "colab": {
          "base_uri": "https://localhost:8080/"
        },
        "collapsed": true,
        "id": "JtLGLt68BsNS",
        "outputId": "d4ef2b02-dcf1-4b6a-a3f7-8af59491be24"
      },
      "execution_count": 15,
      "outputs": [
        {
          "output_type": "stream",
          "name": "stdout",
          "text": [
            "Requirement already satisfied: dash in /usr/local/lib/python3.11/dist-packages (2.18.2)\n",
            "Requirement already satisfied: Flask<3.1,>=1.0.4 in /usr/local/lib/python3.11/dist-packages (from dash) (3.0.3)\n",
            "Requirement already satisfied: Werkzeug<3.1 in /usr/local/lib/python3.11/dist-packages (from dash) (3.0.6)\n",
            "Requirement already satisfied: plotly>=5.0.0 in /usr/local/lib/python3.11/dist-packages (from dash) (5.24.1)\n",
            "Requirement already satisfied: dash-html-components==2.0.0 in /usr/local/lib/python3.11/dist-packages (from dash) (2.0.0)\n",
            "Requirement already satisfied: dash-core-components==2.0.0 in /usr/local/lib/python3.11/dist-packages (from dash) (2.0.0)\n",
            "Requirement already satisfied: dash-table==5.0.0 in /usr/local/lib/python3.11/dist-packages (from dash) (5.0.0)\n",
            "Requirement already satisfied: importlib-metadata in /usr/local/lib/python3.11/dist-packages (from dash) (8.5.0)\n",
            "Requirement already satisfied: typing-extensions>=4.1.1 in /usr/local/lib/python3.11/dist-packages (from dash) (4.12.2)\n",
            "Requirement already satisfied: requests in /usr/local/lib/python3.11/dist-packages (from dash) (2.32.3)\n",
            "Requirement already satisfied: retrying in /usr/local/lib/python3.11/dist-packages (from dash) (1.3.4)\n",
            "Requirement already satisfied: nest-asyncio in /usr/local/lib/python3.11/dist-packages (from dash) (1.6.0)\n",
            "Requirement already satisfied: setuptools in /usr/local/lib/python3.11/dist-packages (from dash) (75.1.0)\n",
            "Requirement already satisfied: Jinja2>=3.1.2 in /usr/local/lib/python3.11/dist-packages (from Flask<3.1,>=1.0.4->dash) (3.1.5)\n",
            "Requirement already satisfied: itsdangerous>=2.1.2 in /usr/local/lib/python3.11/dist-packages (from Flask<3.1,>=1.0.4->dash) (2.2.0)\n",
            "Requirement already satisfied: click>=8.1.3 in /usr/local/lib/python3.11/dist-packages (from Flask<3.1,>=1.0.4->dash) (8.1.8)\n",
            "Requirement already satisfied: blinker>=1.6.2 in /usr/local/lib/python3.11/dist-packages (from Flask<3.1,>=1.0.4->dash) (1.9.0)\n",
            "Requirement already satisfied: tenacity>=6.2.0 in /usr/local/lib/python3.11/dist-packages (from plotly>=5.0.0->dash) (9.0.0)\n",
            "Requirement already satisfied: packaging in /usr/local/lib/python3.11/dist-packages (from plotly>=5.0.0->dash) (24.2)\n",
            "Requirement already satisfied: MarkupSafe>=2.1.1 in /usr/local/lib/python3.11/dist-packages (from Werkzeug<3.1->dash) (3.0.2)\n",
            "Requirement already satisfied: zipp>=3.20 in /usr/local/lib/python3.11/dist-packages (from importlib-metadata->dash) (3.21.0)\n",
            "Requirement already satisfied: charset-normalizer<4,>=2 in /usr/local/lib/python3.11/dist-packages (from requests->dash) (3.4.1)\n",
            "Requirement already satisfied: idna<4,>=2.5 in /usr/local/lib/python3.11/dist-packages (from requests->dash) (3.10)\n",
            "Requirement already satisfied: urllib3<3,>=1.21.1 in /usr/local/lib/python3.11/dist-packages (from requests->dash) (2.3.0)\n",
            "Requirement already satisfied: certifi>=2017.4.17 in /usr/local/lib/python3.11/dist-packages (from requests->dash) (2024.12.14)\n",
            "Requirement already satisfied: six>=1.7.0 in /usr/local/lib/python3.11/dist-packages (from retrying->dash) (1.17.0)\n"
          ]
        }
      ]
    },
    {
      "cell_type": "code",
      "source": [
        "!pip install dash_bootstrap_components"
      ],
      "metadata": {
        "colab": {
          "base_uri": "https://localhost:8080/"
        },
        "id": "DOoEMN52BzZw",
        "outputId": "5d4cdaba-604b-4576-917a-91a434117104"
      },
      "execution_count": 16,
      "outputs": [
        {
          "output_type": "stream",
          "name": "stdout",
          "text": [
            "Requirement already satisfied: dash_bootstrap_components in /usr/local/lib/python3.11/dist-packages (1.7.1)\n",
            "Requirement already satisfied: dash>=2.0.0 in /usr/local/lib/python3.11/dist-packages (from dash_bootstrap_components) (2.18.2)\n",
            "Requirement already satisfied: Flask<3.1,>=1.0.4 in /usr/local/lib/python3.11/dist-packages (from dash>=2.0.0->dash_bootstrap_components) (3.0.3)\n",
            "Requirement already satisfied: Werkzeug<3.1 in /usr/local/lib/python3.11/dist-packages (from dash>=2.0.0->dash_bootstrap_components) (3.0.6)\n",
            "Requirement already satisfied: plotly>=5.0.0 in /usr/local/lib/python3.11/dist-packages (from dash>=2.0.0->dash_bootstrap_components) (5.24.1)\n",
            "Requirement already satisfied: dash-html-components==2.0.0 in /usr/local/lib/python3.11/dist-packages (from dash>=2.0.0->dash_bootstrap_components) (2.0.0)\n",
            "Requirement already satisfied: dash-core-components==2.0.0 in /usr/local/lib/python3.11/dist-packages (from dash>=2.0.0->dash_bootstrap_components) (2.0.0)\n",
            "Requirement already satisfied: dash-table==5.0.0 in /usr/local/lib/python3.11/dist-packages (from dash>=2.0.0->dash_bootstrap_components) (5.0.0)\n",
            "Requirement already satisfied: importlib-metadata in /usr/local/lib/python3.11/dist-packages (from dash>=2.0.0->dash_bootstrap_components) (8.5.0)\n",
            "Requirement already satisfied: typing-extensions>=4.1.1 in /usr/local/lib/python3.11/dist-packages (from dash>=2.0.0->dash_bootstrap_components) (4.12.2)\n",
            "Requirement already satisfied: requests in /usr/local/lib/python3.11/dist-packages (from dash>=2.0.0->dash_bootstrap_components) (2.32.3)\n",
            "Requirement already satisfied: retrying in /usr/local/lib/python3.11/dist-packages (from dash>=2.0.0->dash_bootstrap_components) (1.3.4)\n",
            "Requirement already satisfied: nest-asyncio in /usr/local/lib/python3.11/dist-packages (from dash>=2.0.0->dash_bootstrap_components) (1.6.0)\n",
            "Requirement already satisfied: setuptools in /usr/local/lib/python3.11/dist-packages (from dash>=2.0.0->dash_bootstrap_components) (75.1.0)\n",
            "Requirement already satisfied: Jinja2>=3.1.2 in /usr/local/lib/python3.11/dist-packages (from Flask<3.1,>=1.0.4->dash>=2.0.0->dash_bootstrap_components) (3.1.5)\n",
            "Requirement already satisfied: itsdangerous>=2.1.2 in /usr/local/lib/python3.11/dist-packages (from Flask<3.1,>=1.0.4->dash>=2.0.0->dash_bootstrap_components) (2.2.0)\n",
            "Requirement already satisfied: click>=8.1.3 in /usr/local/lib/python3.11/dist-packages (from Flask<3.1,>=1.0.4->dash>=2.0.0->dash_bootstrap_components) (8.1.8)\n",
            "Requirement already satisfied: blinker>=1.6.2 in /usr/local/lib/python3.11/dist-packages (from Flask<3.1,>=1.0.4->dash>=2.0.0->dash_bootstrap_components) (1.9.0)\n",
            "Requirement already satisfied: tenacity>=6.2.0 in /usr/local/lib/python3.11/dist-packages (from plotly>=5.0.0->dash>=2.0.0->dash_bootstrap_components) (9.0.0)\n",
            "Requirement already satisfied: packaging in /usr/local/lib/python3.11/dist-packages (from plotly>=5.0.0->dash>=2.0.0->dash_bootstrap_components) (24.2)\n",
            "Requirement already satisfied: MarkupSafe>=2.1.1 in /usr/local/lib/python3.11/dist-packages (from Werkzeug<3.1->dash>=2.0.0->dash_bootstrap_components) (3.0.2)\n",
            "Requirement already satisfied: zipp>=3.20 in /usr/local/lib/python3.11/dist-packages (from importlib-metadata->dash>=2.0.0->dash_bootstrap_components) (3.21.0)\n",
            "Requirement already satisfied: charset-normalizer<4,>=2 in /usr/local/lib/python3.11/dist-packages (from requests->dash>=2.0.0->dash_bootstrap_components) (3.4.1)\n",
            "Requirement already satisfied: idna<4,>=2.5 in /usr/local/lib/python3.11/dist-packages (from requests->dash>=2.0.0->dash_bootstrap_components) (3.10)\n",
            "Requirement already satisfied: urllib3<3,>=1.21.1 in /usr/local/lib/python3.11/dist-packages (from requests->dash>=2.0.0->dash_bootstrap_components) (2.3.0)\n",
            "Requirement already satisfied: certifi>=2017.4.17 in /usr/local/lib/python3.11/dist-packages (from requests->dash>=2.0.0->dash_bootstrap_components) (2024.12.14)\n",
            "Requirement already satisfied: six>=1.7.0 in /usr/local/lib/python3.11/dist-packages (from retrying->dash>=2.0.0->dash_bootstrap_components) (1.17.0)\n"
          ]
        }
      ]
    },
    {
      "cell_type": "code",
      "source": [
        "import dash\n",
        "import dash_core_components as dcc\n",
        "import dash_html_components as html\n",
        "import pandas as pd\n",
        "import geopandas as gpd\n",
        "import dash_bootstrap_components as dbc\n",
        "from dash.dependencies import Input, Output\n",
        "import matplotlib.pyplot as plt\n",
        "from io import BytesIO\n",
        "import base64\n",
        "\n",
        "# יצירת אפליקציית Dash\n",
        "app = dash.Dash(__name__, external_stylesheets=[dbc.themes.BOOTSTRAP])\n",
        "\n",
        "# נתיב לקובץ ה-GDB\n",
        "gdb_path = \"/content/PoliceStationBoundaries/PoliceStationBoundaries.gdb\"\n",
        "layer_name = \"PoliceMerhavBoundaries\"\n",
        "\n",
        "# טוען את השכבה\n",
        "gdf = gpd.read_file(gdb_path, layer=layer_name)\n",
        "\n",
        "# טוען את הדאטה פריים שלך (זה הדאטה שמכיל את כל העבירות והמידע)\n",
        "# כאן אתה צריך להחליף את הנתיב של df_all עם הקובץ שלך שמכיל את העבירות\n",
        "# df_all = pd.read_csv('data.csv')  # יש למלא את הנתיב המתאים\n",
        "\n",
        "# התחלת האפליקציה עם ממשק לבחירת סוג העבירה ושנת העבירה\n",
        "app.layout = html.Div([\n",
        "    dbc.Row([\n",
        "        dbc.Col(html.H1(\"מפת חום - עבירות משטרת ישראל\"), width=12)\n",
        "    ]),\n",
        "    dbc.Row([\n",
        "        dbc.Col(html.Label(\"בחר סוג עבירה:\"), width=4),\n",
        "        dbc.Col(dcc.Dropdown(\n",
        "            id='crime-type-dropdown',\n",
        "            options=[{'label': crime, 'value': crime} for crime in df_all['StatisticGroup'].unique()] + [{'label': 'כל סוגי העבירות', 'value': 'all_crimes'}],\n",
        "            value='all_crimes',  # ברירת מחדל\n",
        "            clearable=False\n",
        "        ), width=4),\n",
        "    ]),\n",
        "\n",
        "    dbc.Row([\n",
        "        dbc.Col(html.Label(\"בחר שנה:\"), width=4),\n",
        "        dbc.Col(dcc.Dropdown(\n",
        "            id='year-dropdown',\n",
        "            options=[\n",
        "                {'label': 'לאורך כל השנים', 'value': 'all_years'},\n",
        "                {'label': '2020', 'value': 2020},\n",
        "                {'label': '2021', 'value': 2021},\n",
        "                {'label': '2022', 'value': 2022},\n",
        "                {'label': '2023', 'value': 2023},\n",
        "                {'label': '2024', 'value': 2024}\n",
        "            ],\n",
        "            value='all_years',  # ברירת מחדל\n",
        "            clearable=False\n",
        "        ), width=4),\n",
        "    ]),\n",
        "\n",
        "    dbc.Row([\n",
        "        dbc.Col(html.Img(id='heatmap', style={'width': '100%'}), width=12)\n",
        "    ])\n",
        "])\n",
        "\n",
        "# פונקציה ליצירת המפה ב- Matplotlib ולהמיר לתמונה\n",
        "@app.callback(\n",
        "    Output('heatmap', 'src'),\n",
        "    [Input('crime-type-dropdown', 'value'),\n",
        "     Input('year-dropdown', 'value')]\n",
        ")\n",
        "def generate_static_map(selected_crime, selected_year):\n",
        "    # אם נבחר \"כל סוגי העבירות\", נתייחס לכל העבירות\n",
        "    if selected_crime == 'all_crimes':\n",
        "        filtered_df = df_all\n",
        "    else:\n",
        "        filtered_df = df_all[df_all['StatisticGroup'] == selected_crime]\n",
        "\n",
        "    # סינון לפי שנה\n",
        "    if selected_year != 'all_years':\n",
        "        filtered_df = filtered_df[filtered_df['Year'] == selected_year]\n",
        "\n",
        "    # סיכום כמות הרשומות לכל מרחב\n",
        "    merhav_counts = filtered_df['PoliceMerhav'].value_counts()\n",
        "\n",
        "    # הוספת עמודת 'record_count' ל-gdf עם כמות הרשומות\n",
        "    gdf['record_count'] = gdf['MerhavName'].map(merhav_counts).fillna(0)\n",
        "\n",
        "    # יצירת המפה הסטטית ב-Matplotlib\n",
        "    fig, ax = plt.subplots(1, 1, figsize=(10, 10))\n",
        "    gdf.plot(column='record_count', ax=ax, legend=True,\n",
        "             legend_kwds={'label': \"Number of Records by Police Merhav\",\n",
        "                          'orientation': \"horizontal\"},\n",
        "             cmap='YlOrRd', edgecolor='black')\n",
        "    ax.set_title(f\"Heatmap of {selected_crime} for {selected_year}\" if selected_year != 'all_years' else f\"Heatmap of {selected_crime} (All Years)\")\n",
        "    ax.set_xlabel(\"Longitude\")\n",
        "    ax.set_ylabel(\"Latitude\")\n",
        "\n",
        "    # המרת התמונה ל-base64\n",
        "    buf = BytesIO()\n",
        "    plt.savefig(buf, format=\"png\")\n",
        "    buf.seek(0)\n",
        "    img_str = base64.b64encode(buf.read()).decode('utf-8')\n",
        "    buf.close()\n",
        "\n",
        "    # החזרת התמונה כ-URL לשימוש ב-Dash\n",
        "    return f\"data:image/png;base64,{img_str}\"\n",
        "\n",
        "if __name__ == '__main__':\n",
        "    app.run_server(debug=True)\n",
        "\n",
        "\n"
      ],
      "metadata": {
        "colab": {
          "base_uri": "https://localhost:8080/",
          "height": 811
        },
        "id": "zyiM3ASTc54o",
        "outputId": "84e98e08-e514-4764-8e21-1df6d7fbdd87",
        "collapsed": true
      },
      "execution_count": 17,
      "outputs": [
        {
          "output_type": "stream",
          "name": "stderr",
          "text": [
            "<ipython-input-17-b87da6aee164>:2: UserWarning: \n",
            "The dash_core_components package is deprecated. Please replace\n",
            "`import dash_core_components as dcc` with `from dash import dcc`\n",
            "  import dash_core_components as dcc\n",
            "<ipython-input-17-b87da6aee164>:3: UserWarning: \n",
            "The dash_html_components package is deprecated. Please replace\n",
            "`import dash_html_components as html` with `from dash import html`\n",
            "  import dash_html_components as html\n"
          ]
        },
        {
          "output_type": "display_data",
          "data": {
            "text/plain": [
              "<IPython.core.display.Javascript object>"
            ],
            "application/javascript": [
              "(async (port, path, width, height, cache, element) => {\n",
              "    if (!google.colab.kernel.accessAllowed && !cache) {\n",
              "      return;\n",
              "    }\n",
              "    element.appendChild(document.createTextNode(''));\n",
              "    const url = await google.colab.kernel.proxyPort(port, {cache});\n",
              "    const iframe = document.createElement('iframe');\n",
              "    iframe.src = new URL(path, url).toString();\n",
              "    iframe.height = height;\n",
              "    iframe.width = width;\n",
              "    iframe.style.border = 0;\n",
              "    iframe.allow = [\n",
              "        'accelerometer',\n",
              "        'autoplay',\n",
              "        'camera',\n",
              "        'clipboard-read',\n",
              "        'clipboard-write',\n",
              "        'gyroscope',\n",
              "        'magnetometer',\n",
              "        'microphone',\n",
              "        'serial',\n",
              "        'usb',\n",
              "        'xr-spatial-tracking',\n",
              "    ].join('; ');\n",
              "    element.appendChild(iframe);\n",
              "  })(8050, \"/\", \"100%\", 650, false, window.element)"
            ]
          },
          "metadata": {}
        }
      ]
    },
    {
      "cell_type": "markdown",
      "source": [
        "**ויזואלציה גרועה**"
      ],
      "metadata": {
        "id": "m3pvnVT-wi96"
      }
    },
    {
      "cell_type": "code",
      "source": [
        "import dash\n",
        "import dash_core_components as dcc\n",
        "import dash_html_components as html\n",
        "import pandas as pd\n",
        "import geopandas as gpd\n",
        "import dash_bootstrap_components as dbc\n",
        "from dash.dependencies import Input, Output\n",
        "import matplotlib.pyplot as plt\n",
        "from io import BytesIO\n",
        "import base64\n",
        "\n",
        "# יצירת אפליקציית Dash\n",
        "app = dash.Dash(__name__, external_stylesheets=[dbc.themes.BOOTSTRAP])\n",
        "\n",
        "# נתיב לקובץ ה-GDB\n",
        "gdb_path = \"/content/PoliceStationBoundaries/PoliceStationBoundaries.gdb\"\n",
        "layer_name = \"PoliceMerhavBoundaries\"\n",
        "\n",
        "# טוען את השכבה\n",
        "gdf = gpd.read_file(gdb_path, layer=layer_name)\n",
        "\n",
        "# טוען את הדאטה פריים שלך (זה הדאטה שמכיל את כל העבירות והמידע)\n",
        "# כאן אתה צריך להחליף את הנתיב של df_all עם הקובץ שלך שמכיל את העבירות\n",
        "# df_all = pd.read_csv('data.csv')  # יש למלא את הנתיב המתאים\n",
        "\n",
        "# מיון הרשומות לפי סדר אלפביתי עברי\n",
        "sorted_crimes = sorted(df_all['StatisticGroup'].unique(), key=lambda x: x)\n",
        "\n",
        "# הוספת \"כל סוגי העבירות\" כראשון ברשימה\n",
        "sorted_crimes = ['all_crimes'] + sorted_crimes\n",
        "\n",
        "# התחלת האפליקציה עם ממשק לבחירת סוג העבירה ושנת העבירה\n",
        "app.layout = html.Div([\n",
        "    dbc.Row([\n",
        "        dbc.Col(html.H1(\"מפת חום - עבירות משטרת ישראל\"), width=12)\n",
        "    ]),\n",
        "    dbc.Row([\n",
        "        dbc.Col(html.Label(\"בחר סוג עבירה:\"), width=4),\n",
        "        dbc.Col(dcc.Dropdown(\n",
        "            id='crime-type-dropdown',\n",
        "            options=[{'label': 'כל סוגי העבירות', 'value': 'all_crimes'}] + [{'label': crime, 'value': crime} for crime in sorted_crimes[1:]],\n",
        "            value='all_crimes',  # ברירת מחדל\n",
        "            clearable=False\n",
        "        ), width=4),\n",
        "    ]),\n",
        "\n",
        "    dbc.Row([\n",
        "        dbc.Col(html.Label(\"בחר שנה:\"), width=4),\n",
        "        dbc.Col(dcc.Dropdown(\n",
        "            id='year-dropdown',\n",
        "            options=[\n",
        "                {'label': 'לאורך כל השנים', 'value': 'all_years'},\n",
        "                {'label': '2020', 'value': 2020},\n",
        "                {'label': '2021', 'value': 2021},\n",
        "                {'label': '2022', 'value': 2022},\n",
        "                {'label': '2023', 'value': 2023},\n",
        "                {'label': '2024', 'value': 2024}\n",
        "            ],\n",
        "            value='all_years',  # ברירת מחדל\n",
        "            clearable=False\n",
        "        ), width=4),\n",
        "    ]),\n",
        "\n",
        "    dbc.Row([\n",
        "        dbc.Col(html.Img(id='heatmap', style={'width': '100%'}), width=12)\n",
        "    ])\n",
        "])\n",
        "\n",
        "# פונקציה ליצירת המפה ב- Matplotlib ולהמיר לתמונה\n",
        "@app.callback(\n",
        "    Output('heatmap', 'src'),\n",
        "    [Input('crime-type-dropdown', 'value'),\n",
        "     Input('year-dropdown', 'value')]\n",
        ")\n",
        "def generate_static_map(selected_crime, selected_year):\n",
        "    # אם נבחר \"כל סוגי העבירות\", נתייחס לכל העבירות\n",
        "    if selected_crime == 'all_crimes':\n",
        "        filtered_df = df_all\n",
        "    else:\n",
        "        filtered_df = df_all[df_all['StatisticGroup'] == selected_crime]\n",
        "\n",
        "    # סינון לפי שנה\n",
        "    if selected_year != 'all_years':\n",
        "        filtered_df = filtered_df[filtered_df['Year'] == selected_year]\n",
        "\n",
        "    # סיכום כמות הרשומות לכל מרחב\n",
        "    merhav_counts = filtered_df['PoliceMerhav'].value_counts()\n",
        "\n",
        "    # הוספת עמודת 'record_count' ל-gdf עם כמות הרשומות\n",
        "    gdf['record_count'] = gdf['MerhavName'].map(merhav_counts).fillna(0)\n",
        "\n",
        "    # יצירת המפה הסטטית ב-Matplotlib\n",
        "    fig, ax = plt.subplots(1, 1, figsize=(10, 10))\n",
        "    gdf.plot(column='record_count', ax=ax, legend=True,\n",
        "             legend_kwds={'label': \"Number of Records by Police Merhav\",\n",
        "                          'orientation': \"horizontal\"},\n",
        "             cmap='YlOrRd', edgecolor='black')\n",
        "    ax.set_title(f\"Heatmap of {selected_crime} for {selected_year}\" if selected_year != 'all_years' else f\"Heatmap of {selected_crime} (All Years)\")\n",
        "    ax.set_xlabel(\"Longitude\")\n",
        "    ax.set_ylabel(\"Latitude\")\n",
        "\n",
        "    # המרת התמונה ל-base64\n",
        "    buf = BytesIO()\n",
        "    plt.savefig(buf, format=\"png\")\n",
        "    buf.seek(0)\n",
        "    img_str = base64.b64encode(buf.read()).decode('utf-8')\n",
        "    buf.close()\n",
        "\n",
        "    # החזרת התמונה כ-URL לשימוש ב-Dash\n",
        "    return f\"data:image/png;base64,{img_str}\"\n",
        "\n",
        "if __name__ == '__main__':\n",
        "    app.run_server(debug=True)\n"
      ],
      "metadata": {
        "colab": {
          "base_uri": "https://localhost:8080/",
          "height": 672
        },
        "id": "Oez1pwlx8Ub9",
        "outputId": "a64ceeaa-fa8a-4917-eb37-5e72b303fbc7"
      },
      "execution_count": 19,
      "outputs": [
        {
          "output_type": "display_data",
          "data": {
            "text/plain": [
              "<IPython.core.display.Javascript object>"
            ],
            "application/javascript": [
              "(async (port, path, width, height, cache, element) => {\n",
              "    if (!google.colab.kernel.accessAllowed && !cache) {\n",
              "      return;\n",
              "    }\n",
              "    element.appendChild(document.createTextNode(''));\n",
              "    const url = await google.colab.kernel.proxyPort(port, {cache});\n",
              "    const iframe = document.createElement('iframe');\n",
              "    iframe.src = new URL(path, url).toString();\n",
              "    iframe.height = height;\n",
              "    iframe.width = width;\n",
              "    iframe.style.border = 0;\n",
              "    iframe.allow = [\n",
              "        'accelerometer',\n",
              "        'autoplay',\n",
              "        'camera',\n",
              "        'clipboard-read',\n",
              "        'clipboard-write',\n",
              "        'gyroscope',\n",
              "        'magnetometer',\n",
              "        'microphone',\n",
              "        'serial',\n",
              "        'usb',\n",
              "        'xr-spatial-tracking',\n",
              "    ].join('; ');\n",
              "    element.appendChild(iframe);\n",
              "  })(8050, \"/\", \"100%\", 650, false, window.element)"
            ]
          },
          "metadata": {}
        }
      ]
    }
  ]
}